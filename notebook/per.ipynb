{
 "cells": [
  {
   "attachments": {},
   "cell_type": "markdown",
   "metadata": {},
   "source": [
    "# Predict a PER custom model InferenceService"
   ]
  },
  {
   "cell_type": "markdown",
   "metadata": {},
   "source": [
    "This example assumes you have already deployed the sample PER custom model Inference Service."
   ]
  },
  {
   "cell_type": "code",
   "execution_count": 1,
   "metadata": {},
   "outputs": [
    {
     "name": "stdout",
     "output_type": "stream",
     "text": [
      "env: MODEL_NAME=per-custom-model\n",
      "env: INGRESS_HOST=localhost\n",
      "env: INGRESS_PORT=8080\n",
      "env: SERVICE_HOSTNAME=per-custom-model.default.example.com\n"
     ]
    }
   ],
   "source": [
    "\n",
    "%env MODEL_NAME=per-custom-model\n",
    "HOSTNAME=!(kubectl get inferenceservice \"per-custom-model\" -o jsonpath='{.status.url}' | cut -d \"/\" -f 3)\n",
    "%env INGRESS_HOST=localhost\n",
    "%env INGRESS_PORT=8080\n",
    "%env SERVICE_HOSTNAME={HOSTNAME[0]}"
   ]
  },
  {
   "cell_type": "markdown",
   "metadata": {},
   "source": [
    "# Load and save input"
   ]
  },
  {
   "cell_type": "code",
   "execution_count": 2,
   "metadata": {},
   "outputs": [],
   "source": [
    "import torch\n",
    "import json\n",
    "import requests\n",
    "import json\n",
    "import os\n",
    "import numpy as np"
   ]
  },
  {
   "cell_type": "code",
   "execution_count": 3,
   "metadata": {},
   "outputs": [
    {
     "name": "stderr",
     "output_type": "stream",
     "text": [
      "/tmp/ipykernel_141202/27486490.py:1: FutureWarning: You are using `torch.load` with `weights_only=False` (the current default value), which uses the default pickle module implicitly. It is possible to construct malicious pickle data which will execute arbitrary code during unpickling (See https://github.com/pytorch/pytorch/blob/main/SECURITY.md#untrusted-models for more details). In a future release, the default value for `weights_only` will be flipped to `True`. This limits the functions that could be executed during unpickling. Arbitrary objects will no longer be allowed to be loaded via this mode unless they are explicitly allowlisted by the user via `torch.serialization.add_safe_globals`. We recommend you start setting `weights_only=True` for any use case where you don't have full control of the loaded file. Please open an issue on GitHub for any issues related to this experimental feature.\n",
      "  array = torch.load('reduced_tronchetto_array.pt')\n"
     ]
    }
   ],
   "source": [
    "array = torch.load('reduced_tronchetto_array.pt')"
   ]
  },
  {
   "cell_type": "code",
   "execution_count": 4,
   "metadata": {},
   "outputs": [],
   "source": [
    "# Create request message to be sent to the predictor\n",
    "message_data = {}\n",
    "inputs = {}\n",
    "message_data[\"inputs\"] = []\n",
    "inputs[\"name\"]=\"input1\"\n",
    "inputs[\"shape\"] = array.shape\n",
    "inputs[\"datatype\"]=\"FP32\" # as the given per model expects float32\n",
    "inputs[\"data\"]=array.tolist()\n",
    "message_data[\"inputs\"].append(inputs)"
   ]
  },
  {
   "cell_type": "code",
   "execution_count": 5,
   "metadata": {},
   "outputs": [],
   "source": [
    "# Call predictor\n",
    "\n",
    "service_hostname=os.environ[\"SERVICE_HOSTNAME\"]\n",
    "model_name=os.environ[\"MODEL_NAME\"]\n",
    "ingress_ip=\"localhost\"\n",
    "ingress_port=os.environ[\"INGRESS_PORT\"]\n",
    "predictor_url = f\"http://{ingress_ip}:{ingress_port}/v2/models/{model_name}/infer\"\n",
    "request_headers = {\n",
    "    \"Content-Type\": \"application/json\",\n",
    "    \"Accept\": \"application/json\",\n",
    "    \"Host\": service_hostname,\n",
    "}\n",
    "response = requests.post(predictor_url, headers=request_headers, data=json.dumps(message_data))"
   ]
  },
  {
   "cell_type": "code",
   "execution_count": 6,
   "metadata": {},
   "outputs": [],
   "source": [
    "response_message = json.loads(response.text)\n",
    "output1 = np.array(response_message[\"outputs\"][0]['data'], dtype=np.float32)"
   ]
  },
  {
   "cell_type": "code",
   "execution_count": 7,
   "metadata": {},
   "outputs": [
    {
     "name": "stdout",
     "output_type": "stream",
     "text": [
      "[2.2801923e+08 2.2591115e+08 2.2561736e+08 2.2002536e+08 2.1993590e+08]\n"
     ]
    }
   ],
   "source": [
    "# postprocess\n",
    "print(output1)"
   ]
  },
  {
   "cell_type": "code",
   "execution_count": null,
   "metadata": {},
   "outputs": [],
   "source": []
  }
 ],
 "metadata": {
  "kernelspec": {
   "display_name": "Python 3 (ipykernel)",
   "language": "python",
   "name": "python3"
  },
  "language_info": {
   "codemirror_mode": {
    "name": "ipython",
    "version": 3
   },
   "file_extension": ".py",
   "mimetype": "text/x-python",
   "name": "python",
   "nbconvert_exporter": "python",
   "pygments_lexer": "ipython3",
   "version": "3.11.7"
  }
 },
 "nbformat": 4,
 "nbformat_minor": 4
}
